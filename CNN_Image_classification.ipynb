{
  "cells": [
    {
      "cell_type": "code",
      "execution_count": null,
      "metadata": {
        "id": "CSWon2mhWZtB"
      },
      "outputs": [],
      "source": [
        "%reset -f"
      ]
    },
    {
      "cell_type": "code",
      "source": [
        "from google.colab import drive\n",
        "drive.mount('/content/drive')"
      ],
      "metadata": {
        "colab": {
          "base_uri": "https://localhost:8080/"
        },
        "id": "LgykFbXBYEj9",
        "outputId": "dc5a638a-c410-4355-8e39-54438b65c61e"
      },
      "execution_count": null,
      "outputs": [
        {
          "output_type": "stream",
          "name": "stdout",
          "text": [
            "Mounted at /content/drive\n"
          ]
        }
      ]
    },
    {
      "cell_type": "markdown",
      "source": [
        "#### **Importing Required Libraries**"
      ],
      "metadata": {
        "id": "yFcHFGSd74cM"
      }
    },
    {
      "cell_type": "code",
      "execution_count": null,
      "metadata": {
        "id": "DhxzFwhKL2dn"
      },
      "outputs": [],
      "source": [
        "import matplotlib.pyplot as plt\n",
        "import pandas as pd\n",
        "import os\n",
        "import numpy as np\n",
        "import tensorflow as tf\n",
        "\n",
        "from sklearn.model_selection import train_test_split\n",
        "from tensorflow import keras\n",
        "import tqdm\n",
        "import cv2\n",
        "\n",
        "from tensorflow.keras.regularizers import l2\n",
        "from tensorflow.keras import layers\n",
        "import seaborn as sns\n",
        "import gzip\n",
        "\n",
        "from tensorflow.keras import layers\n",
        "from tensorflow.keras.regularizers import l2\n",
        "from tensorflow.keras.preprocessing.image import ImageDataGenerator\n",
        "from tensorflow.python.client import device_lib\n",
        "from tensorflow.keras.callbacks import ModelCheckpoint, EarlyStopping, ReduceLROnPlateau"
      ]
    },
    {
      "cell_type": "markdown",
      "source": [
        "#### **Loading Training/Validation Dataset**"
      ],
      "metadata": {
        "id": "bUQfv_yp8ClL"
      }
    },
    {
      "cell_type": "code",
      "execution_count": null,
      "metadata": {
        "id": "GaJj0Np2WZtF"
      },
      "outputs": [],
      "source": [
        "train_path='/content/drive/MyDrive/seg_train/'"
      ]
    },
    {
      "cell_type": "code",
      "execution_count": null,
      "metadata": {
        "colab": {
          "base_uri": "https://localhost:8080/"
        },
        "id": "sIgVZnX7WZtG",
        "outputId": "503d78d2-45ca-432a-82ef-43f4fbc8d606"
      },
      "outputs": [
        {
          "output_type": "execute_result",
          "data": {
            "text/plain": [
              "['buildings', 'forest', 'glacier', 'mountain', 'sea', 'street']"
            ]
          },
          "metadata": {},
          "execution_count": 4
        }
      ],
      "source": [
        "os.listdir(train_path)"
      ]
    },
    {
      "cell_type": "code",
      "execution_count": null,
      "metadata": {
        "id": "NeeIvD7aWZtJ"
      },
      "outputs": [],
      "source": [
        "classes=os.listdir(train_path)"
      ]
    },
    {
      "cell_type": "code",
      "execution_count": null,
      "metadata": {
        "id": "D6DoUYeKuCEm",
        "colab": {
          "base_uri": "https://localhost:8080/"
        },
        "outputId": "3e233653-e6b4-4064-e58f-d2c8fbb06c2b"
      },
      "outputs": [
        {
          "output_type": "execute_result",
          "data": {
            "text/plain": [
              "{'buildings': 2191,\n",
              " 'forest': 2271,\n",
              " 'glacier': 2404,\n",
              " 'mountain': 2512,\n",
              " 'sea': 2274,\n",
              " 'street': 2382}"
            ]
          },
          "metadata": {},
          "execution_count": 6
        }
      ],
      "source": [
        "length={}\n",
        "for n1 in classes:\n",
        "    l=len(os.listdir(train_path+'/'+n1))\n",
        "    length[n1]=l\n",
        "length"
      ]
    },
    {
      "cell_type": "code",
      "execution_count": null,
      "metadata": {
        "colab": {
          "base_uri": "https://localhost:8080/"
        },
        "id": "Ynz7dB2aWZtK",
        "outputId": "590ccb74-71dd-4090-9248-f7e17ba30f30"
      },
      "outputs": [
        {
          "output_type": "execute_result",
          "data": {
            "text/plain": [
              "14034"
            ]
          },
          "metadata": {},
          "execution_count": 7
        }
      ],
      "source": [
        "sumi=0\n",
        "for e1 in length:\n",
        "    sumi+=length[e1]\n",
        "sumi"
      ]
    },
    {
      "cell_type": "code",
      "execution_count": null,
      "metadata": {
        "colab": {
          "base_uri": "https://localhost:8080/"
        },
        "id": "Lyn0788Id_6j",
        "outputId": "c364ccb6-24e2-4b6f-b15f-6304f271f72b"
      },
      "outputs": [
        {
          "output_type": "stream",
          "name": "stderr",
          "text": [
            " 68%|██████▊   | 1500/2191 [01:07<00:31, 22.07it/s] \n",
            " 66%|██████▌   | 1500/2271 [00:55<00:28, 27.05it/s] \n",
            " 62%|██████▏   | 1500/2404 [01:00<00:36, 24.66it/s] \n",
            " 60%|█████▉    | 1500/2512 [01:20<00:54, 18.54it/s] \n",
            " 66%|██████▌   | 1500/2274 [00:54<00:28, 27.36it/s] \n",
            " 63%|██████▎   | 1500/2382 [00:59<00:35, 25.09it/s] \n"
          ]
        }
      ],
      "source": [
        "x=[]\n",
        "y=[]\n",
        "num_samples_per_class = 1500\n",
        "sampled_count_per_class = {labels: 0 for labels in classes}\n",
        "for labels in classes:\n",
        "    pth=os.path.join(train_path,labels)\n",
        "    for img in tqdm.tqdm(os.listdir(pth)):\n",
        "      if sampled_count_per_class[labels] >= num_samples_per_class:\n",
        "            break\n",
        "      else:\n",
        "          pic=cv2.imread(os.path.join(pth,img))\n",
        "          x.append(pic)\n",
        "          y.append(classes.index(labels))\n",
        "      sampled_count_per_class[labels]+=1"
      ]
    },
    {
      "cell_type": "markdown",
      "source": [
        "#### **Pre-Processing of Dataset**"
      ],
      "metadata": {
        "id": "0aqH-jI08fOr"
      }
    },
    {
      "cell_type": "markdown",
      "source": [
        "#### Resizing to 128x128"
      ],
      "metadata": {
        "id": "nGV7SHq48lqW"
      }
    },
    {
      "cell_type": "code",
      "execution_count": null,
      "metadata": {
        "id": "sLitNZh6EAI9"
      },
      "outputs": [],
      "source": [
        "for i in range(len(x)):\n",
        "    img = np.array(x[i])\n",
        "    x[i] = cv2.resize(img,(128,128))"
      ]
    },
    {
      "cell_type": "code",
      "execution_count": null,
      "metadata": {
        "id": "huJHdbFNGo_q"
      },
      "outputs": [],
      "source": [
        "x = np.array(x)\n",
        "y = np.array(y)"
      ]
    },
    {
      "cell_type": "code",
      "execution_count": null,
      "metadata": {
        "id": "wfJ87tUvG154"
      },
      "outputs": [],
      "source": [
        "np.save('trainX',x)\n",
        "np.save('trainY',y)"
      ]
    },
    {
      "cell_type": "code",
      "source": [
        "x.shape"
      ],
      "metadata": {
        "colab": {
          "base_uri": "https://localhost:8080/"
        },
        "id": "OcPgYc-8gsah",
        "outputId": "a5ab1add-a23c-4dd5-f48c-ea42cc386d98"
      },
      "execution_count": null,
      "outputs": [
        {
          "output_type": "execute_result",
          "data": {
            "text/plain": [
              "(9000, 128, 128, 3)"
            ]
          },
          "metadata": {},
          "execution_count": 12
        }
      ]
    },
    {
      "cell_type": "code",
      "source": [
        "y.shape"
      ],
      "metadata": {
        "colab": {
          "base_uri": "https://localhost:8080/"
        },
        "id": "k2rLlV3lgsRz",
        "outputId": "59c4c80b-66bd-400a-bc79-469d5f2602e5"
      },
      "execution_count": null,
      "outputs": [
        {
          "output_type": "execute_result",
          "data": {
            "text/plain": [
              "(9000,)"
            ]
          },
          "metadata": {},
          "execution_count": 13
        }
      ]
    },
    {
      "cell_type": "code",
      "execution_count": null,
      "metadata": {
        "id": "AzaOIYqhtam_"
      },
      "outputs": [],
      "source": [
        "import numpy as np\n",
        "x = np.load(\"/content/trainX.npy\")\n",
        "y = np.load(\"/content/trainY.npy\")"
      ]
    },
    {
      "cell_type": "markdown",
      "source": [
        "#### Splitting into training and validation sets"
      ],
      "metadata": {
        "id": "LMD11djE8sNs"
      }
    },
    {
      "cell_type": "code",
      "execution_count": null,
      "metadata": {
        "id": "bOvJAQRQqKgD"
      },
      "outputs": [],
      "source": [
        "X_train, X_valid, y_train, y_valid = train_test_split(x, y, test_size=0.2, random_state=42)"
      ]
    },
    {
      "cell_type": "code",
      "source": [
        "X_train= X_train / 255.0"
      ],
      "metadata": {
        "id": "2baqd76DhH-Q"
      },
      "execution_count": null,
      "outputs": []
    },
    {
      "cell_type": "code",
      "source": [
        "X_valid = X_valid / 255.0"
      ],
      "metadata": {
        "id": "w2O1FtwVhH6z"
      },
      "execution_count": null,
      "outputs": []
    },
    {
      "cell_type": "markdown",
      "source": [
        "#### **Deep CNN Model Initialization**"
      ],
      "metadata": {
        "id": "5kCoCkjx87Zf"
      }
    },
    {
      "cell_type": "code",
      "source": [
        "#new model config acc to what sir told today, you may make more changes to this\n",
        "# it gave 0.82583 val accuracy without overfitting, as can be seen below in history\n",
        "esp = 20\n",
        "callback=[\n",
        "      tf.keras.callbacks.ModelCheckpoint(filepath=\"/content/drive/MyDrive/CNN/weights/best_model.h5\", monitor='val_loss',save_best_only=True,verbose=1,save_weights_only=False,mode='auto'),\n",
        "      tf.keras.callbacks.EarlyStopping(monitor='val_loss', patience=esp, restore_best_weights=True),\n",
        "      tf.keras.callbacks.ReduceLROnPlateau(factor=0.5, patience=5,min_lr=1e-4)\n",
        "    ]\n",
        "model = tf.keras.models.Sequential([\n",
        "    tf.keras.layers.Conv2D(16, (3, 3), activation='relu', input_shape=(128, 128, 3)),\n",
        "    tf.keras.layers.Conv2D(16, (3, 3), activation='relu'),\n",
        "    tf.keras.layers.MaxPooling2D((2, 2)),\n",
        "\n",
        "    tf.keras.layers.Conv2D(32, (3, 3), activation='relu'),\n",
        "    tf.keras.layers.Conv2D(32, (3, 3), activation='relu'),\n",
        "    tf.keras.layers.Dropout(0.5),\n",
        "    tf.keras.layers.MaxPooling2D((2, 2)),\n",
        "\n",
        "    tf.keras.layers.Conv2D(64, (3, 3), activation='relu'),\n",
        "    tf.keras.layers.Conv2D(64, (3, 3), activation='relu'),\n",
        "    tf.keras.layers.Dropout(0.5),\n",
        "    tf.keras.layers.MaxPooling2D((2, 2)),\n",
        "\n",
        "    tf.keras.layers.GlobalAveragePooling2D(),\n",
        "    tf.keras.layers.Dense(32, activation='relu'),\n",
        "    tf.keras.layers.Dense(32, activation='relu'),\n",
        "    tf.keras.layers.Dense(6, activation='softmax')\n",
        "])\n",
        "#also save weights of model\n",
        "model.compile(optimizer='adam', loss='sparse_categorical_crossentropy', metrics=['accuracy'])"
      ],
      "metadata": {
        "id": "-oU9AlNDYHnf"
      },
      "execution_count": null,
      "outputs": []
    },
    {
      "cell_type": "code",
      "source": [
        "model.summary()"
      ],
      "metadata": {
        "colab": {
          "base_uri": "https://localhost:8080/"
        },
        "id": "ZPKaqa3FYxJB",
        "outputId": "02b9a8aa-a2ad-4b75-e205-95a7f975dfdb"
      },
      "execution_count": null,
      "outputs": [
        {
          "output_type": "stream",
          "name": "stdout",
          "text": [
            "Model: \"sequential\"\n",
            "_________________________________________________________________\n",
            " Layer (type)                Output Shape              Param #   \n",
            "=================================================================\n",
            " conv2d (Conv2D)             (None, 126, 126, 16)      448       \n",
            "                                                                 \n",
            " conv2d_1 (Conv2D)           (None, 124, 124, 16)      2320      \n",
            "                                                                 \n",
            " max_pooling2d (MaxPooling2  (None, 62, 62, 16)        0         \n",
            " D)                                                              \n",
            "                                                                 \n",
            " conv2d_2 (Conv2D)           (None, 60, 60, 32)        4640      \n",
            "                                                                 \n",
            " conv2d_3 (Conv2D)           (None, 58, 58, 32)        9248      \n",
            "                                                                 \n",
            " dropout (Dropout)           (None, 58, 58, 32)        0         \n",
            "                                                                 \n",
            " max_pooling2d_1 (MaxPoolin  (None, 29, 29, 32)        0         \n",
            " g2D)                                                            \n",
            "                                                                 \n",
            " conv2d_4 (Conv2D)           (None, 27, 27, 64)        18496     \n",
            "                                                                 \n",
            " conv2d_5 (Conv2D)           (None, 25, 25, 64)        36928     \n",
            "                                                                 \n",
            " dropout_1 (Dropout)         (None, 25, 25, 64)        0         \n",
            "                                                                 \n",
            " max_pooling2d_2 (MaxPoolin  (None, 12, 12, 64)        0         \n",
            " g2D)                                                            \n",
            "                                                                 \n",
            " global_average_pooling2d (  (None, 64)                0         \n",
            " GlobalAveragePooling2D)                                         \n",
            "                                                                 \n",
            " dense (Dense)               (None, 32)                2080      \n",
            "                                                                 \n",
            " dense_1 (Dense)             (None, 32)                1056      \n",
            "                                                                 \n",
            " dense_2 (Dense)             (None, 6)                 198       \n",
            "                                                                 \n",
            "=================================================================\n",
            "Total params: 75414 (294.59 KB)\n",
            "Trainable params: 75414 (294.59 KB)\n",
            "Non-trainable params: 0 (0.00 Byte)\n",
            "_________________________________________________________________\n"
          ]
        }
      ]
    },
    {
      "cell_type": "markdown",
      "source": [
        "#### **Model Training & Validation**"
      ],
      "metadata": {
        "id": "UAdp9VY99CtF"
      }
    },
    {
      "cell_type": "code",
      "source": [
        "# training of new config model with 0.82583 val accuracy\n",
        "history = model.fit(X_train,y_train, epochs=150,batch_size=32, validation_data=(X_valid,y_valid), callbacks=callback)"
      ],
      "metadata": {
        "colab": {
          "base_uri": "https://localhost:8080/"
        },
        "id": "lpc4r3VuJsaK",
        "outputId": "eac5107d-3aef-4742-9d56-b654932eaa6a"
      },
      "execution_count": null,
      "outputs": [
        {
          "output_type": "stream",
          "name": "stdout",
          "text": [
            "Epoch 1/150\n",
            "224/225 [============================>.] - ETA: 0s - loss: 1.3142 - accuracy: 0.4177\n",
            "Epoch 1: val_accuracy improved from -inf to 0.49556, saving model to /content/drive/MyDrive/CNN/weights/best_model.h5\n"
          ]
        },
        {
          "output_type": "stream",
          "name": "stderr",
          "text": [
            "/usr/local/lib/python3.10/dist-packages/keras/src/engine/training.py:3103: UserWarning: You are saving your model as an HDF5 file via `model.save()`. This file format is considered legacy. We recommend using instead the native Keras format, e.g. `model.save('my_model.keras')`.\n",
            "  saving_api.save_model(\n"
          ]
        },
        {
          "output_type": "stream",
          "name": "stdout",
          "text": [
            "\b\b\b\b\b\b\b\b\b\b\b\b\b\b\b\b\b\b\b\b\b\b\b\b\b\b\b\b\b\b\b\b\b\b\b\b\b\b\b\b\b\b\b\b\b\b\b\b\b\b\b\b\b\b\b\b\b\b\b\b\b\b\b\b\b\b\b\b\b\b\b\b\b\b\b\b\b\b\b\b\b\b\b\b\r225/225 [==============================] - 19s 44ms/step - loss: 1.3128 - accuracy: 0.4183 - val_loss: 1.3129 - val_accuracy: 0.4956 - lr: 0.0010\n",
            "Epoch 2/150\n",
            "223/225 [============================>.] - ETA: 0s - loss: 1.0797 - accuracy: 0.5265\n",
            "Epoch 2: val_accuracy improved from 0.49556 to 0.51833, saving model to /content/drive/MyDrive/CNN/weights/best_model.h5\n",
            "225/225 [==============================] - 6s 29ms/step - loss: 1.0782 - accuracy: 0.5272 - val_loss: 1.2472 - val_accuracy: 0.5183 - lr: 0.0010\n",
            "Epoch 3/150\n",
            "223/225 [============================>.] - ETA: 0s - loss: 0.9877 - accuracy: 0.5600\n",
            "Epoch 3: val_accuracy improved from 0.51833 to 0.60222, saving model to /content/drive/MyDrive/CNN/weights/best_model.h5\n",
            "225/225 [==============================] - 6s 28ms/step - loss: 0.9860 - accuracy: 0.5604 - val_loss: 1.1541 - val_accuracy: 0.6022 - lr: 0.0010\n",
            "Epoch 4/150\n",
            "224/225 [============================>.] - ETA: 0s - loss: 0.9321 - accuracy: 0.6042\n",
            "Epoch 4: val_accuracy improved from 0.60222 to 0.62944, saving model to /content/drive/MyDrive/CNN/weights/best_model.h5\n",
            "225/225 [==============================] - 6s 26ms/step - loss: 0.9329 - accuracy: 0.6043 - val_loss: 1.0623 - val_accuracy: 0.6294 - lr: 0.0010\n",
            "Epoch 5/150\n",
            "225/225 [==============================] - ETA: 0s - loss: 0.8353 - accuracy: 0.6685\n",
            "Epoch 5: val_accuracy improved from 0.62944 to 0.68000, saving model to /content/drive/MyDrive/CNN/weights/best_model.h5\n",
            "225/225 [==============================] - 6s 29ms/step - loss: 0.8353 - accuracy: 0.6685 - val_loss: 1.0712 - val_accuracy: 0.6800 - lr: 0.0010\n",
            "Epoch 6/150\n",
            "224/225 [============================>.] - ETA: 0s - loss: 0.8092 - accuracy: 0.6701\n",
            "Epoch 6: val_accuracy did not improve from 0.68000\n",
            "225/225 [==============================] - 6s 28ms/step - loss: 0.8088 - accuracy: 0.6703 - val_loss: 1.1256 - val_accuracy: 0.6506 - lr: 0.0010\n",
            "Epoch 7/150\n",
            "225/225 [==============================] - ETA: 0s - loss: 0.7498 - accuracy: 0.7089\n",
            "Epoch 7: val_accuracy improved from 0.68000 to 0.73111, saving model to /content/drive/MyDrive/CNN/weights/best_model.h5\n",
            "225/225 [==============================] - 7s 30ms/step - loss: 0.7498 - accuracy: 0.7089 - val_loss: 0.9394 - val_accuracy: 0.7311 - lr: 0.0010\n",
            "Epoch 8/150\n",
            "224/225 [============================>.] - ETA: 0s - loss: 0.6850 - accuracy: 0.7447\n",
            "Epoch 8: val_accuracy did not improve from 0.73111\n",
            "225/225 [==============================] - 6s 28ms/step - loss: 0.6843 - accuracy: 0.7453 - val_loss: 0.9464 - val_accuracy: 0.6956 - lr: 0.0010\n",
            "Epoch 9/150\n",
            "225/225 [==============================] - ETA: 0s - loss: 0.6652 - accuracy: 0.7528\n",
            "Epoch 9: val_accuracy improved from 0.73111 to 0.76222, saving model to /content/drive/MyDrive/CNN/weights/best_model.h5\n",
            "225/225 [==============================] - 7s 30ms/step - loss: 0.6652 - accuracy: 0.7528 - val_loss: 0.8450 - val_accuracy: 0.7622 - lr: 0.0010\n",
            "Epoch 10/150\n",
            "225/225 [==============================] - ETA: 0s - loss: 0.6222 - accuracy: 0.7681\n",
            "Epoch 10: val_accuracy did not improve from 0.76222\n",
            "225/225 [==============================] - 6s 28ms/step - loss: 0.6222 - accuracy: 0.7681 - val_loss: 0.9146 - val_accuracy: 0.7400 - lr: 0.0010\n",
            "Epoch 11/150\n",
            "224/225 [============================>.] - ETA: 0s - loss: 0.5989 - accuracy: 0.7825\n",
            "Epoch 11: val_accuracy improved from 0.76222 to 0.78778, saving model to /content/drive/MyDrive/CNN/weights/best_model.h5\n",
            "225/225 [==============================] - 7s 31ms/step - loss: 0.5989 - accuracy: 0.7828 - val_loss: 0.8656 - val_accuracy: 0.7878 - lr: 0.0010\n",
            "Epoch 12/150\n",
            "225/225 [==============================] - ETA: 0s - loss: 0.5726 - accuracy: 0.7910\n",
            "Epoch 12: val_accuracy did not improve from 0.78778\n",
            "225/225 [==============================] - 6s 27ms/step - loss: 0.5726 - accuracy: 0.7910 - val_loss: 0.8749 - val_accuracy: 0.7622 - lr: 0.0010\n",
            "Epoch 13/150\n",
            "224/225 [============================>.] - ETA: 0s - loss: 0.5515 - accuracy: 0.7953\n",
            "Epoch 13: val_accuracy did not improve from 0.78778\n",
            "225/225 [==============================] - 6s 28ms/step - loss: 0.5519 - accuracy: 0.7954 - val_loss: 0.9314 - val_accuracy: 0.7444 - lr: 0.0010\n",
            "Epoch 14/150\n",
            "224/225 [============================>.] - ETA: 0s - loss: 0.5447 - accuracy: 0.8002\n",
            "Epoch 14: val_accuracy improved from 0.78778 to 0.79833, saving model to /content/drive/MyDrive/CNN/weights/best_model.h5\n",
            "225/225 [==============================] - 7s 30ms/step - loss: 0.5448 - accuracy: 0.7999 - val_loss: 0.8013 - val_accuracy: 0.7983 - lr: 0.0010\n",
            "Epoch 15/150\n",
            "225/225 [==============================] - ETA: 0s - loss: 0.5164 - accuracy: 0.8149\n",
            "Epoch 15: val_accuracy did not improve from 0.79833\n",
            "225/225 [==============================] - 6s 28ms/step - loss: 0.5164 - accuracy: 0.8149 - val_loss: 0.7725 - val_accuracy: 0.7933 - lr: 0.0010\n",
            "Epoch 16/150\n",
            "224/225 [============================>.] - ETA: 0s - loss: 0.5119 - accuracy: 0.8119\n",
            "Epoch 16: val_accuracy did not improve from 0.79833\n",
            "225/225 [==============================] - 7s 30ms/step - loss: 0.5117 - accuracy: 0.8118 - val_loss: 0.7751 - val_accuracy: 0.7811 - lr: 0.0010\n",
            "Epoch 17/150\n",
            "225/225 [==============================] - ETA: 0s - loss: 0.4977 - accuracy: 0.8197\n",
            "Epoch 17: val_accuracy improved from 0.79833 to 0.80333, saving model to /content/drive/MyDrive/CNN/weights/best_model.h5\n",
            "225/225 [==============================] - 7s 31ms/step - loss: 0.4977 - accuracy: 0.8197 - val_loss: 0.7727 - val_accuracy: 0.8033 - lr: 0.0010\n",
            "Epoch 18/150\n",
            "225/225 [==============================] - ETA: 0s - loss: 0.4859 - accuracy: 0.8242\n",
            "Epoch 18: val_accuracy did not improve from 0.80333\n",
            "225/225 [==============================] - 6s 29ms/step - loss: 0.4859 - accuracy: 0.8242 - val_loss: 0.7510 - val_accuracy: 0.7989 - lr: 0.0010\n",
            "Epoch 19/150\n",
            "225/225 [==============================] - ETA: 0s - loss: 0.4693 - accuracy: 0.8299\n",
            "Epoch 19: val_accuracy did not improve from 0.80333\n",
            "225/225 [==============================] - 6s 27ms/step - loss: 0.4693 - accuracy: 0.8299 - val_loss: 0.7490 - val_accuracy: 0.7794 - lr: 0.0010\n",
            "Epoch 20/150\n",
            "225/225 [==============================] - ETA: 0s - loss: 0.4768 - accuracy: 0.8279\n",
            "Epoch 20: val_accuracy did not improve from 0.80333\n",
            "225/225 [==============================] - 6s 28ms/step - loss: 0.4768 - accuracy: 0.8279 - val_loss: 0.7558 - val_accuracy: 0.7878 - lr: 0.0010\n",
            "Epoch 21/150\n",
            "224/225 [============================>.] - ETA: 0s - loss: 0.4470 - accuracy: 0.8383\n",
            "Epoch 21: val_accuracy improved from 0.80333 to 0.81278, saving model to /content/drive/MyDrive/CNN/weights/best_model.h5\n",
            "225/225 [==============================] - 6s 29ms/step - loss: 0.4470 - accuracy: 0.8383 - val_loss: 0.7314 - val_accuracy: 0.8128 - lr: 0.0010\n",
            "Epoch 22/150\n",
            "225/225 [==============================] - ETA: 0s - loss: 0.4419 - accuracy: 0.8376\n",
            "Epoch 22: val_accuracy improved from 0.81278 to 0.81833, saving model to /content/drive/MyDrive/CNN/weights/best_model.h5\n",
            "225/225 [==============================] - 7s 31ms/step - loss: 0.4419 - accuracy: 0.8376 - val_loss: 0.6967 - val_accuracy: 0.8183 - lr: 0.0010\n",
            "Epoch 23/150\n",
            "224/225 [============================>.] - ETA: 0s - loss: 0.4380 - accuracy: 0.8387\n",
            "Epoch 23: val_accuracy did not improve from 0.81833\n",
            "225/225 [==============================] - 6s 28ms/step - loss: 0.4381 - accuracy: 0.8386 - val_loss: 0.7200 - val_accuracy: 0.7917 - lr: 0.0010\n",
            "Epoch 24/150\n",
            "225/225 [==============================] - ETA: 0s - loss: 0.4184 - accuracy: 0.8489\n",
            "Epoch 24: val_accuracy did not improve from 0.81833\n",
            "225/225 [==============================] - 6s 28ms/step - loss: 0.4184 - accuracy: 0.8489 - val_loss: 0.6830 - val_accuracy: 0.8133 - lr: 0.0010\n",
            "Epoch 25/150\n",
            "225/225 [==============================] - ETA: 0s - loss: 0.4223 - accuracy: 0.8450\n",
            "Epoch 25: val_accuracy improved from 0.81833 to 0.83278, saving model to /content/drive/MyDrive/CNN/weights/best_model.h5\n",
            "225/225 [==============================] - 7s 29ms/step - loss: 0.4223 - accuracy: 0.8450 - val_loss: 0.6331 - val_accuracy: 0.8328 - lr: 0.0010\n",
            "Epoch 26/150\n",
            "225/225 [==============================] - ETA: 0s - loss: 0.4078 - accuracy: 0.8501\n",
            "Epoch 26: val_accuracy did not improve from 0.83278\n",
            "225/225 [==============================] - 7s 29ms/step - loss: 0.4078 - accuracy: 0.8501 - val_loss: 0.7041 - val_accuracy: 0.7767 - lr: 0.0010\n",
            "Epoch 27/150\n",
            "225/225 [==============================] - ETA: 0s - loss: 0.3947 - accuracy: 0.8553\n",
            "Epoch 27: val_accuracy did not improve from 0.83278\n",
            "225/225 [==============================] - 6s 27ms/step - loss: 0.3947 - accuracy: 0.8553 - val_loss: 0.6905 - val_accuracy: 0.7944 - lr: 0.0010\n",
            "Epoch 28/150\n",
            "225/225 [==============================] - ETA: 0s - loss: 0.3878 - accuracy: 0.8610\n",
            "Epoch 28: val_accuracy did not improve from 0.83278\n",
            "225/225 [==============================] - 7s 29ms/step - loss: 0.3878 - accuracy: 0.8610 - val_loss: 0.6372 - val_accuracy: 0.8089 - lr: 0.0010\n",
            "Epoch 29/150\n",
            "224/225 [============================>.] - ETA: 0s - loss: 0.3983 - accuracy: 0.8569\n",
            "Epoch 29: val_accuracy did not improve from 0.83278\n",
            "225/225 [==============================] - 6s 28ms/step - loss: 0.3983 - accuracy: 0.8568 - val_loss: 0.7077 - val_accuracy: 0.7889 - lr: 0.0010\n",
            "Epoch 30/150\n",
            "225/225 [==============================] - ETA: 0s - loss: 0.3789 - accuracy: 0.8604\n",
            "Epoch 30: val_accuracy did not improve from 0.83278\n",
            "225/225 [==============================] - 6s 28ms/step - loss: 0.3789 - accuracy: 0.8604 - val_loss: 0.6517 - val_accuracy: 0.8228 - lr: 0.0010\n",
            "Epoch 31/150\n",
            "224/225 [============================>.] - ETA: 0s - loss: 0.3393 - accuracy: 0.8807\n",
            "Epoch 31: val_accuracy did not improve from 0.83278\n",
            "225/225 [==============================] - 6s 27ms/step - loss: 0.3390 - accuracy: 0.8807 - val_loss: 0.6103 - val_accuracy: 0.8328 - lr: 5.0000e-04\n",
            "Epoch 32/150\n",
            "225/225 [==============================] - ETA: 0s - loss: 0.3175 - accuracy: 0.8860\n",
            "Epoch 32: val_accuracy did not improve from 0.83278\n",
            "225/225 [==============================] - 7s 29ms/step - loss: 0.3175 - accuracy: 0.8860 - val_loss: 0.6054 - val_accuracy: 0.8189 - lr: 5.0000e-04\n",
            "Epoch 33/150\n",
            "225/225 [==============================] - ETA: 0s - loss: 0.3104 - accuracy: 0.8883\n",
            "Epoch 33: val_accuracy improved from 0.83278 to 0.83444, saving model to /content/drive/MyDrive/CNN/weights/best_model.h5\n",
            "225/225 [==============================] - 7s 29ms/step - loss: 0.3104 - accuracy: 0.8883 - val_loss: 0.5845 - val_accuracy: 0.8344 - lr: 5.0000e-04\n",
            "Epoch 34/150\n",
            "225/225 [==============================] - ETA: 0s - loss: 0.3030 - accuracy: 0.8901\n",
            "Epoch 34: val_accuracy improved from 0.83444 to 0.85389, saving model to /content/drive/MyDrive/CNN/weights/best_model.h5\n",
            "225/225 [==============================] - 7s 31ms/step - loss: 0.3030 - accuracy: 0.8901 - val_loss: 0.5417 - val_accuracy: 0.8539 - lr: 5.0000e-04\n",
            "Epoch 35/150\n",
            "225/225 [==============================] - ETA: 0s - loss: 0.2989 - accuracy: 0.8947\n",
            "Epoch 35: val_accuracy did not improve from 0.85389\n",
            "225/225 [==============================] - 6s 27ms/step - loss: 0.2989 - accuracy: 0.8947 - val_loss: 0.5965 - val_accuracy: 0.8283 - lr: 5.0000e-04\n",
            "Epoch 36/150\n",
            "224/225 [============================>.] - ETA: 0s - loss: 0.2940 - accuracy: 0.8947\n",
            "Epoch 36: val_accuracy did not improve from 0.85389\n",
            "225/225 [==============================] - 6s 29ms/step - loss: 0.2953 - accuracy: 0.8942 - val_loss: 0.5647 - val_accuracy: 0.8344 - lr: 5.0000e-04\n",
            "Epoch 37/150\n",
            "224/225 [============================>.] - ETA: 0s - loss: 0.2934 - accuracy: 0.8962\n",
            "Epoch 37: val_accuracy did not improve from 0.85389\n",
            "225/225 [==============================] - 6s 27ms/step - loss: 0.2928 - accuracy: 0.8964 - val_loss: 0.5337 - val_accuracy: 0.8478 - lr: 5.0000e-04\n",
            "Epoch 38/150\n",
            "225/225 [==============================] - ETA: 0s - loss: 0.2889 - accuracy: 0.8936\n",
            "Epoch 38: val_accuracy did not improve from 0.85389\n",
            "225/225 [==============================] - 6s 27ms/step - loss: 0.2889 - accuracy: 0.8936 - val_loss: 0.5336 - val_accuracy: 0.8406 - lr: 5.0000e-04\n",
            "Epoch 39/150\n",
            "223/225 [============================>.] - ETA: 0s - loss: 0.2772 - accuracy: 0.8976\n",
            "Epoch 39: val_accuracy did not improve from 0.85389\n",
            "225/225 [==============================] - 6s 28ms/step - loss: 0.2755 - accuracy: 0.8983 - val_loss: 0.5700 - val_accuracy: 0.8356 - lr: 5.0000e-04\n",
            "Epoch 40/150\n",
            "225/225 [==============================] - ETA: 0s - loss: 0.2769 - accuracy: 0.8975\n",
            "Epoch 40: val_accuracy did not improve from 0.85389\n",
            "225/225 [==============================] - 6s 28ms/step - loss: 0.2769 - accuracy: 0.8975 - val_loss: 0.5150 - val_accuracy: 0.8417 - lr: 5.0000e-04\n",
            "Epoch 41/150\n",
            "225/225 [==============================] - ETA: 0s - loss: 0.2761 - accuracy: 0.8983\n",
            "Epoch 41: val_accuracy did not improve from 0.85389\n",
            "225/225 [==============================] - 6s 28ms/step - loss: 0.2761 - accuracy: 0.8983 - val_loss: 0.5429 - val_accuracy: 0.8350 - lr: 5.0000e-04\n",
            "Epoch 42/150\n",
            "225/225 [==============================] - ETA: 0s - loss: 0.2728 - accuracy: 0.8982\n",
            "Epoch 42: val_accuracy did not improve from 0.85389\n",
            "225/225 [==============================] - 6s 28ms/step - loss: 0.2728 - accuracy: 0.8982 - val_loss: 0.5097 - val_accuracy: 0.8428 - lr: 5.0000e-04\n",
            "Epoch 43/150\n",
            "225/225 [==============================] - ETA: 0s - loss: 0.2717 - accuracy: 0.9033\n",
            "Epoch 43: val_accuracy did not improve from 0.85389\n",
            "225/225 [==============================] - 7s 29ms/step - loss: 0.2717 - accuracy: 0.9033 - val_loss: 0.5623 - val_accuracy: 0.8206 - lr: 5.0000e-04\n",
            "Epoch 44/150\n",
            "225/225 [==============================] - ETA: 0s - loss: 0.2647 - accuracy: 0.9032\n",
            "Epoch 44: val_accuracy improved from 0.85389 to 0.86167, saving model to /content/drive/MyDrive/CNN/weights/best_model.h5\n",
            "225/225 [==============================] - 6s 29ms/step - loss: 0.2647 - accuracy: 0.9032 - val_loss: 0.4927 - val_accuracy: 0.8617 - lr: 5.0000e-04\n",
            "Epoch 45/150\n",
            "225/225 [==============================] - ETA: 0s - loss: 0.2668 - accuracy: 0.9019\n",
            "Epoch 45: val_accuracy did not improve from 0.86167\n",
            "225/225 [==============================] - 6s 28ms/step - loss: 0.2668 - accuracy: 0.9019 - val_loss: 0.5379 - val_accuracy: 0.8428 - lr: 5.0000e-04\n",
            "Epoch 46/150\n",
            "225/225 [==============================] - ETA: 0s - loss: 0.2515 - accuracy: 0.9067\n",
            "Epoch 46: val_accuracy did not improve from 0.86167\n",
            "225/225 [==============================] - 6s 28ms/step - loss: 0.2515 - accuracy: 0.9067 - val_loss: 0.5359 - val_accuracy: 0.8344 - lr: 5.0000e-04\n",
            "Epoch 47/150\n",
            "225/225 [==============================] - ETA: 0s - loss: 0.2590 - accuracy: 0.9033\n",
            "Epoch 47: val_accuracy did not improve from 0.86167\n",
            "225/225 [==============================] - 6s 29ms/step - loss: 0.2590 - accuracy: 0.9033 - val_loss: 0.5146 - val_accuracy: 0.8489 - lr: 5.0000e-04\n",
            "Epoch 48/150\n",
            "224/225 [============================>.] - ETA: 0s - loss: 0.2430 - accuracy: 0.9121\n",
            "Epoch 48: val_accuracy did not improve from 0.86167\n",
            "225/225 [==============================] - 6s 28ms/step - loss: 0.2430 - accuracy: 0.9119 - val_loss: 0.5230 - val_accuracy: 0.8406 - lr: 5.0000e-04\n",
            "Epoch 49/150\n",
            "224/225 [============================>.] - ETA: 0s - loss: 0.2516 - accuracy: 0.9043\n",
            "Epoch 49: val_accuracy did not improve from 0.86167\n",
            "225/225 [==============================] - 7s 29ms/step - loss: 0.2517 - accuracy: 0.9043 - val_loss: 0.5273 - val_accuracy: 0.8389 - lr: 5.0000e-04\n",
            "Epoch 50/150\n",
            "225/225 [==============================] - ETA: 0s - loss: 0.2118 - accuracy: 0.9206\n",
            "Epoch 50: val_accuracy did not improve from 0.86167\n",
            "225/225 [==============================] - 6s 27ms/step - loss: 0.2118 - accuracy: 0.9206 - val_loss: 0.4910 - val_accuracy: 0.8478 - lr: 2.5000e-04\n",
            "Epoch 51/150\n",
            "225/225 [==============================] - ETA: 0s - loss: 0.2029 - accuracy: 0.9274\n",
            "Epoch 51: val_accuracy did not improve from 0.86167\n",
            "225/225 [==============================] - 6s 28ms/step - loss: 0.2029 - accuracy: 0.9274 - val_loss: 0.5152 - val_accuracy: 0.8433 - lr: 2.5000e-04\n",
            "Epoch 52/150\n",
            "224/225 [============================>.] - ETA: 0s - loss: 0.2055 - accuracy: 0.9258\n",
            "Epoch 52: val_accuracy did not improve from 0.86167\n",
            "225/225 [==============================] - 6s 27ms/step - loss: 0.2058 - accuracy: 0.9257 - val_loss: 0.4602 - val_accuracy: 0.8500 - lr: 2.5000e-04\n",
            "Epoch 53/150\n",
            "224/225 [============================>.] - ETA: 0s - loss: 0.1993 - accuracy: 0.9254\n",
            "Epoch 53: val_accuracy did not improve from 0.86167\n",
            "225/225 [==============================] - 6s 27ms/step - loss: 0.2004 - accuracy: 0.9249 - val_loss: 0.4727 - val_accuracy: 0.8433 - lr: 2.5000e-04\n",
            "Epoch 54/150\n",
            "224/225 [============================>.] - ETA: 0s - loss: 0.1989 - accuracy: 0.9290\n",
            "Epoch 54: val_accuracy did not improve from 0.86167\n",
            "225/225 [==============================] - 6s 28ms/step - loss: 0.1998 - accuracy: 0.9287 - val_loss: 0.5063 - val_accuracy: 0.8444 - lr: 2.5000e-04\n",
            "Epoch 55/150\n",
            "223/225 [============================>.] - ETA: 0s - loss: 0.1959 - accuracy: 0.9312\n",
            "Epoch 55: val_accuracy did not improve from 0.86167\n",
            "225/225 [==============================] - 6s 27ms/step - loss: 0.1950 - accuracy: 0.9318 - val_loss: 0.4690 - val_accuracy: 0.8494 - lr: 2.5000e-04\n",
            "Epoch 56/150\n",
            "224/225 [============================>.] - ETA: 0s - loss: 0.1960 - accuracy: 0.9240\n",
            "Epoch 56: val_accuracy did not improve from 0.86167\n",
            "225/225 [==============================] - 7s 29ms/step - loss: 0.1954 - accuracy: 0.9243 - val_loss: 0.4648 - val_accuracy: 0.8478 - lr: 2.5000e-04\n",
            "Epoch 57/150\n",
            "224/225 [============================>.] - ETA: 0s - loss: 0.1911 - accuracy: 0.9318\n",
            "Epoch 57: val_accuracy did not improve from 0.86167\n",
            "225/225 [==============================] - 6s 27ms/step - loss: 0.1915 - accuracy: 0.9318 - val_loss: 0.4727 - val_accuracy: 0.8361 - lr: 2.5000e-04\n",
            "Epoch 58/150\n",
            "224/225 [============================>.] - ETA: 0s - loss: 0.1717 - accuracy: 0.9408\n",
            "Epoch 58: val_accuracy did not improve from 0.86167\n",
            "225/225 [==============================] - 7s 30ms/step - loss: 0.1718 - accuracy: 0.9408 - val_loss: 0.4610 - val_accuracy: 0.8489 - lr: 1.2500e-04\n",
            "Epoch 59/150\n",
            "225/225 [==============================] - ETA: 0s - loss: 0.1722 - accuracy: 0.9361\n",
            "Epoch 59: val_accuracy did not improve from 0.86167\n",
            "225/225 [==============================] - 6s 28ms/step - loss: 0.1722 - accuracy: 0.9361 - val_loss: 0.4694 - val_accuracy: 0.8439 - lr: 1.2500e-04\n",
            "Epoch 60/150\n",
            "225/225 [==============================] - ETA: 0s - loss: 0.1661 - accuracy: 0.9396\n",
            "Epoch 60: val_accuracy did not improve from 0.86167\n",
            "225/225 [==============================] - 6s 28ms/step - loss: 0.1661 - accuracy: 0.9396 - val_loss: 0.4453 - val_accuracy: 0.8467 - lr: 1.2500e-04\n",
            "Epoch 61/150\n",
            "225/225 [==============================] - ETA: 0s - loss: 0.1674 - accuracy: 0.9392\n",
            "Epoch 61: val_accuracy did not improve from 0.86167\n",
            "225/225 [==============================] - 6s 27ms/step - loss: 0.1674 - accuracy: 0.9392 - val_loss: 0.4558 - val_accuracy: 0.8444 - lr: 1.2500e-04\n",
            "Epoch 62/150\n",
            "225/225 [==============================] - ETA: 0s - loss: 0.1640 - accuracy: 0.9390\n",
            "Epoch 62: val_accuracy did not improve from 0.86167\n",
            "225/225 [==============================] - 6s 28ms/step - loss: 0.1640 - accuracy: 0.9390 - val_loss: 0.4284 - val_accuracy: 0.8544 - lr: 1.2500e-04\n",
            "Epoch 63/150\n",
            "223/225 [============================>.] - ETA: 0s - loss: 0.1628 - accuracy: 0.9413\n",
            "Epoch 63: val_accuracy did not improve from 0.86167\n",
            "225/225 [==============================] - 6s 28ms/step - loss: 0.1622 - accuracy: 0.9415 - val_loss: 0.4574 - val_accuracy: 0.8450 - lr: 1.2500e-04\n",
            "Epoch 64/150\n",
            "224/225 [============================>.] - ETA: 0s - loss: 0.1616 - accuracy: 0.9395\n",
            "Epoch 64: val_accuracy did not improve from 0.86167\n",
            "225/225 [==============================] - 6s 28ms/step - loss: 0.1617 - accuracy: 0.9393 - val_loss: 0.4438 - val_accuracy: 0.8533 - lr: 1.2500e-04\n"
          ]
        }
      ]
    },
    {
      "cell_type": "markdown",
      "source": [
        "#### **Training & Validation Loss/Accuracy Curves**"
      ],
      "metadata": {
        "id": "6aIqOAK79JqX"
      }
    },
    {
      "cell_type": "code",
      "source": [
        "import matplotlib.pyplot as plt\n",
        "ep = [i for i in range(1,len(history.history['loss'])+1)]\n",
        "curves = [history.history[i] for i in ['loss','val_loss','accuracy','val_accuracy']]\n",
        "plt.figure(figsize=(10, 5))\n",
        "plt.subplot(1, 2, 1)\n",
        "plt.plot(ep,curves[0],'o',ls='-',label='Training Loss',markevery=[-1])\n",
        "plt.plot(ep,curves[1], label='Validation Loss')\n",
        "l1 = (ep[-1],curves[0][-1])\n",
        "plt.annotate(f\"{l1[1]:.3f}\",xy=l1)\n",
        "l2 = (ep[-1],curves[1][-1])\n",
        "plt.title('Training and Validation Loss')\n",
        "plt.xlabel('Epoch')\n",
        "plt.ylabel('Loss')\n",
        "plt.grid()\n",
        "plt.legend()\n",
        "\n",
        "plt.subplot(1, 2, 2)\n",
        "plt.plot(ep,curves[2], label='Training Accuracy')\n",
        "plt.plot(ep,curves[3], label='Validation Accuracy')\n",
        "plt.title('Training and Validation Accuracy')\n",
        "plt.xlabel('Epoch')\n",
        "plt.ylabel('Accuracy')\n",
        "plt.grid()\n",
        "plt.legend()\n",
        "\n",
        "plt.tight_layout()\n",
        "plt.show()\n",
        "# plots for new config model2"
      ],
      "metadata": {
        "colab": {
          "base_uri": "https://localhost:8080/",
          "height": 507
        },
        "id": "KzscdioQLdwi",
        "outputId": "e76ed4fd-7a07-428f-c30a-65f7766321af"
      },
      "execution_count": null,
      "outputs": [
        {
          "output_type": "display_data",
          "data": {
            "text/plain": [
              "<Figure size 1000x500 with 2 Axes>"
            ],
            "image/png": "[encoded data removed]"
          },
          "metadata": {}
        }
      ]
    },
    {
      "cell_type": "markdown",
      "source": [
        "#### Saving Model"
      ],
      "metadata": {
        "id": "h2yJd71N9Q5a"
      }
    },
    {
      "cell_type": "code",
      "source": [
        "bmodel = keras.models.load_model(\"/content/drive/MyDrive/CNN/weights/best_model_0.86167.h5\")"
      ],
      "metadata": {
        "id": "vZF9Vj53X1Wy"
      },
      "execution_count": null,
      "outputs": []
    },
    {
      "cell_type": "markdown",
      "source": [
        "#### **Loading Test Dataset**"
      ],
      "metadata": {
        "id": "E4T2rgMU9VOT"
      }
    },
    {
      "cell_type": "code",
      "source": [
        "test_path='/content/drive/MyDrive/seg_test/seg_test/'"
      ],
      "metadata": {
        "id": "4vWd-pzxZZuO"
      },
      "execution_count": null,
      "outputs": []
    },
    {
      "cell_type": "code",
      "source": [
        "classes = ['buildings','forest','glacier','mountain','sea','street']"
      ],
      "metadata": {
        "id": "u3xqNYZz6Q9z"
      },
      "execution_count": null,
      "outputs": []
    },
    {
      "cell_type": "code",
      "source": [
        "lentest={}\n",
        "for n1 in classes:\n",
        "    l=len(os.listdir(test_path+'/'+n1))\n",
        "    lentest[n1]=l\n",
        "lentest"
      ],
      "metadata": {
        "colab": {
          "base_uri": "https://localhost:8080/"
        },
        "id": "1rpVTvS9Z_2Z",
        "outputId": "aed36012-06cb-4a0f-c370-67986ac796b4"
      },
      "execution_count": null,
      "outputs": [
        {
          "output_type": "execute_result",
          "data": {
            "text/plain": [
              "{'buildings': 437,\n",
              " 'forest': 474,\n",
              " 'glacier': 553,\n",
              " 'mountain': 525,\n",
              " 'sea': 510,\n",
              " 'street': 501}"
            ]
          },
          "metadata": {},
          "execution_count": 31
        }
      ]
    },
    {
      "cell_type": "code",
      "source": [
        "testimg=0\n",
        "for e1 in lentest:\n",
        "    testimg+=lentest[e1]\n",
        "testimg"
      ],
      "metadata": {
        "id": "WUqfxadAaCgY",
        "colab": {
          "base_uri": "https://localhost:8080/"
        },
        "outputId": "318d7aca-8fc2-454a-fbbd-209a2355d109"
      },
      "execution_count": null,
      "outputs": [
        {
          "output_type": "execute_result",
          "data": {
            "text/plain": [
              "3000"
            ]
          },
          "metadata": {},
          "execution_count": 32
        }
      ]
    },
    {
      "cell_type": "code",
      "source": [
        "xtest=[]\n",
        "ytest=[]\n",
        "for label in classes:\n",
        "    pth=os.path.join(test_path,label)\n",
        "    for img in tqdm.tqdm(os.listdir(pth)):\n",
        "          pic=cv2.imread(os.path.join(pth,img))\n",
        "          xtest.append(pic)\n",
        "          ytest.append(classes.index(label))"
      ],
      "metadata": {
        "colab": {
          "base_uri": "https://localhost:8080/"
        },
        "id": "abhixXPJaHsv",
        "outputId": "bde25361-fd54-4398-c895-97594582a0d4"
      },
      "execution_count": null,
      "outputs": [
        {
          "output_type": "stream",
          "name": "stderr",
          "text": [
            "100%|██████████| 437/437 [00:03<00:00, 131.98it/s]\n",
            "100%|██████████| 474/474 [00:04<00:00, 107.59it/s]\n",
            "100%|██████████| 553/553 [00:04<00:00, 121.69it/s]\n",
            "100%|██████████| 525/525 [00:04<00:00, 123.54it/s]\n",
            "100%|██████████| 510/510 [00:04<00:00, 112.52it/s]\n",
            "100%|██████████| 501/501 [00:04<00:00, 120.30it/s]\n"
          ]
        }
      ]
    },
    {
      "cell_type": "markdown",
      "source": [
        "#### **Pre-Processing on Test Dataset**"
      ],
      "metadata": {
        "id": "siEwsEf49Y2w"
      }
    },
    {
      "cell_type": "code",
      "source": [
        "for i in range(len(xtest)):\n",
        "    img = np.array(xtest[i])\n",
        "    xtest[i] = cv2.resize(img,(128,128))"
      ],
      "metadata": {
        "id": "g6HHB7Slc_iX"
      },
      "execution_count": null,
      "outputs": []
    },
    {
      "cell_type": "code",
      "source": [
        "xtest = np.array(xtest)/255\n",
        "ytest = np.array(ytest)\n",
        "np.save('testX',xtest)\n",
        "np.save('testY',ytest)"
      ],
      "metadata": {
        "id": "T8K-WX2MccdF"
      },
      "execution_count": null,
      "outputs": []
    },
    {
      "cell_type": "code",
      "source": [
        "import numpy as np\n",
        "xtest = np.load(\"/content/testX.npy\")\n",
        "ytest = np.load(\"/content/testY.npy\")"
      ],
      "metadata": {
        "id": "PyQ3W0ckcsEC"
      },
      "execution_count": null,
      "outputs": []
    },
    {
      "cell_type": "code",
      "source": [
        "ytest"
      ],
      "metadata": {
        "colab": {
          "base_uri": "https://localhost:8080/"
        },
        "id": "QH7dn_JXfwPk",
        "outputId": "497b44b6-6d27-429f-e87a-1d955f024c6e"
      },
      "execution_count": null,
      "outputs": [
        {
          "output_type": "execute_result",
          "data": {
            "text/plain": [
              "array([0, 0, 0, ..., 5, 5, 5])"
            ]
          },
          "metadata": {},
          "execution_count": 37
        }
      ]
    },
    {
      "cell_type": "markdown",
      "source": [
        "#### **Results of Model Testing**"
      ],
      "metadata": {
        "id": "KWLimDkj9e-e"
      }
    },
    {
      "cell_type": "code",
      "source": [
        "ypred = bmodel.predict(xtest,batch_size=32)"
      ],
      "metadata": {
        "colab": {
          "base_uri": "https://localhost:8080/"
        },
        "id": "3_9kM66LYD7S",
        "outputId": "2728bc97-ea2f-4bcf-d085-7d6ed0bbe436"
      },
      "execution_count": null,
      "outputs": [
        {
          "output_type": "stream",
          "name": "stdout",
          "text": [
            "94/94 [==============================] - 1s 7ms/step\n"
          ]
        }
      ]
    },
    {
      "cell_type": "code",
      "source": [
        "ypredi = np.argmax(ypred,axis=1)\n",
        "ypredi"
      ],
      "metadata": {
        "colab": {
          "base_uri": "https://localhost:8080/"
        },
        "id": "nIbmO9ucfIHN",
        "outputId": "5f6a8f8e-197a-401e-9637-8b6a5eea30e4"
      },
      "execution_count": null,
      "outputs": [
        {
          "output_type": "execute_result",
          "data": {
            "text/plain": [
              "array([0, 0, 0, ..., 5, 5, 5])"
            ]
          },
          "metadata": {},
          "execution_count": 39
        }
      ]
    },
    {
      "cell_type": "code",
      "source": [
        "from sklearn.metrics import confusion_matrix,classification_report,accuracy_score,f1_score\n",
        "cm = confusion_matrix(ytest,ypredi)\n",
        "sns.heatmap(cm, annot=True, fmt=\"d\", cmap='Blues', xticklabels=classes, yticklabels=classes)\n",
        "plt.xlabel(\"Predicted\")\n",
        "plt.ylabel(\"True\")\n",
        "plt.title(\"Confusion Matrix\")\n",
        "plt.show()"
      ],
      "metadata": {
        "colab": {
          "base_uri": "https://localhost:8080/",
          "height": 472
        },
        "id": "AV3xbUbId7YF",
        "outputId": "057e9a31-f4a7-4c96-de24-3a9f7ab24748"
      },
      "execution_count": null,
      "outputs": [
        {
          "output_type": "display_data",
          "data": {
            "text/plain": [
              "<Figure size 640x480 with 2 Axes>"
            ],
            "image/png": "[encoded data removed]"
          },
          "metadata": {}
        }
      ]
    },
    {
      "cell_type": "code",
      "source": [
        "acc = accuracy_score(ytest,ypredi)\n",
        "print(f\"Accuracy = {acc*100:.2f}%\")"
      ],
      "metadata": {
        "colab": {
          "base_uri": "https://localhost:8080/"
        },
        "id": "kDVl3Bxahz7i",
        "outputId": "4c81e1b1-3192-4a28-edc5-70ace5c3c235"
      },
      "execution_count": null,
      "outputs": [
        {
          "output_type": "stream",
          "name": "stdout",
          "text": [
            "Accuracy = 84.63%\n"
          ]
        }
      ]
    },
    {
      "cell_type": "code",
      "source": [
        "f1 = f1_score(ytest,ypredi,average='macro')\n",
        "print(f\"F1-Score = {f1*100:.2f}%\")"
      ],
      "metadata": {
        "colab": {
          "base_uri": "https://localhost:8080/"
        },
        "id": "rdXrxRovia4w",
        "outputId": "a2b01972-f5f2-4a6f-e39e-f27e84f9bf6f"
      },
      "execution_count": null,
      "outputs": [
        {
          "output_type": "stream",
          "name": "stdout",
          "text": [
            "F1-Score = 84.73%\n"
          ]
        }
      ]
    },
    {
      "cell_type": "code",
      "source": [
        "rep = classification_report(ytest,ypredi,target_names=classes)\n",
        "print(rep)"
      ],
      "metadata": {
        "colab": {
          "base_uri": "https://localhost:8080/"
        },
        "id": "vG0khtFWd-qi",
        "outputId": "720fba36-bc28-4fd5-a832-e1e616cedc2a"
      },
      "execution_count": null,
      "outputs": [
        {
          "output_type": "stream",
          "name": "stdout",
          "text": [
            "              precision    recall  f1-score   support\n",
            "\n",
            "   buildings       0.89      0.75      0.82       437\n",
            "      forest       0.97      0.96      0.97       474\n",
            "     glacier       0.79      0.81      0.80       553\n",
            "    mountain       0.82      0.77      0.80       525\n",
            "         sea       0.82      0.89      0.85       510\n",
            "      street       0.82      0.89      0.85       501\n",
            "\n",
            "    accuracy                           0.85      3000\n",
            "   macro avg       0.85      0.85      0.85      3000\n",
            "weighted avg       0.85      0.85      0.85      3000\n",
            "\n"
          ]
        }
      ]
    },
    {
      "cell_type": "code",
      "source": [],
      "metadata": {
        "id": "DypXVbGt7026"
      },
      "execution_count": null,
      "outputs": []
    }
  ],
  "metadata": {
    "accelerator": "GPU",
    "colab": {
      "gpuType": "T4",
      "provenance": []
    },
    "finalized": {
      "timestamp": 1712855906634,
      "trusted": true
    },
    "kernelspec": {
      "display_name": "Python 3",
      "name": "python3"
    },
    "language_info": {
      "codemirror_mode": {
        "name": "ipython",
        "version": 3
      },
      "file_extension": ".py",
      "mimetype": "text/x-python",
      "name": "python",
      "nbconvert_exporter": "python",
      "pygments_lexer": "ipython3",
      "version": "3.9.7"
    }
  },
  "nbformat": 4,
  "nbformat_minor": 0
}